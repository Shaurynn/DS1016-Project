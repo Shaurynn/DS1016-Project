{
  "cells": [
    {
      "cell_type": "code",
      "execution_count": 5,
      "metadata": {
        "id": "pCSobjFP2f_M"
      },
      "outputs": [
        {
          "name": "stderr",
          "output_type": "stream",
          "text": [
            "2022-12-01 17:10:59.309535: I tensorflow/core/platform/cpu_feature_guard.cc:193] This TensorFlow binary is optimized with oneAPI Deep Neural Network Library (oneDNN) to use the following CPU instructions in performance-critical operations:  AVX2 AVX_VNNI FMA\n",
            "To enable them in other operations, rebuild TensorFlow with the appropriate compiler flags.\n",
            "2022-12-01 17:10:59.401907: I tensorflow/core/util/port.cc:104] oneDNN custom operations are on. You may see slightly different numerical results due to floating-point round-off errors from different computation orders. To turn them off, set the environment variable `TF_ENABLE_ONEDNN_OPTS=0`.\n",
            "2022-12-01 17:10:59.919929: W tensorflow/compiler/xla/stream_executor/platform/default/dso_loader.cc:64] Could not load dynamic library 'libnvinfer.so.7'; dlerror: libnvinfer.so.7: cannot open shared object file: No such file or directory\n",
            "2022-12-01 17:10:59.920029: W tensorflow/compiler/xla/stream_executor/platform/default/dso_loader.cc:64] Could not load dynamic library 'libnvinfer_plugin.so.7'; dlerror: libnvinfer_plugin.so.7: cannot open shared object file: No such file or directory\n",
            "2022-12-01 17:10:59.920034: W tensorflow/compiler/tf2tensorrt/utils/py_utils.cc:38] TF-TRT Warning: Cannot dlopen some TensorRT libraries. If you would like to use Nvidia GPU with TensorRT, please make sure the missing libraries mentioned above are installed properly.\n"
          ]
        }
      ],
      "source": [
        "import os\n",
        "import numpy as np\n",
        "import pandas as pd\n",
        "import tensorflow as tf\n",
        "import ants\n",
        "import matplotlib.pyplot as plt"
      ]
    },
    {
      "cell_type": "code",
      "execution_count": 6,
      "metadata": {
        "id": "XqAZ0cGNFYHw"
      },
      "outputs": [],
      "source": [
        "CLASS_SUBFOLDERS = ['MCI/', 'AD/', 'CN/']\n",
        "DB_SS_PATH = 'data/output/'\n",
        "\n",
        "TFR_PATH = 'data/output/TFR/'\n",
        "\n",
        "TFR_TRAIN = 'train.tfrecords'\n",
        "TFR_TEST = 'test.tfrecords'\n",
        "TFR_VAL = 'val.tfrecords'\n",
        "\n",
        "train_tfrec = os.path.join(TFR_PATH, TFR_TRAIN)\n",
        "test_tfrec = os.path.join(TFR_PATH, TFR_TEST)\n",
        "val_tfrec = os.path.join(TFR_PATH, TFR_VAL)\n",
        "\n",
        "LABELS = {'CN': 1, 'MCI': 0, 'AD': 0}\n",
        "BINARY_LABELS = {'CN': 0, 'AD': 1}\n",
        "\n",
        "TEST_SPLIT = 0.15\n",
        "VALIDATION_SPLIT = 0.15"
      ]
    },
    {
      "cell_type": "code",
      "execution_count": 15,
      "metadata": {
        "id": "IiBQ2qF7ytey"
      },
      "outputs": [],
      "source": [
        "rm_dir = \"data/output/AD\"\n",
        "\n",
        "for file in os.listdir(rm_dir):\n",
        "  if \".mat\" in os.path.join(rm_dir,file):\n",
        "    os.remove(os.path.join(rm_dir,file))\n",
        "\n",
        "n_AD = len(os.listdir(rm_dir))"
      ]
    },
    {
      "cell_type": "code",
      "execution_count": 16,
      "metadata": {
        "id": "8yNtbjd90hUW"
      },
      "outputs": [],
      "source": [
        "rm_dir = \"data/output/CN\"\n",
        "\n",
        "for file in os.listdir(rm_dir):\n",
        "  if \".mat\" in os.path.join(rm_dir,file):\n",
        "    os.remove(os.path.join(rm_dir,file))\n",
        "\n",
        "n_CN = len(os.listdir(rm_dir))"
      ]
    },
    {
      "cell_type": "code",
      "execution_count": 17,
      "metadata": {
        "id": "Aug4MwYv0hH8"
      },
      "outputs": [],
      "source": [
        "rm_dir = \"data/output/MCI\"\n",
        "\n",
        "for file in os.listdir(rm_dir):\n",
        "  if \".mat\" in os.path.join(rm_dir,file):\n",
        "    os.remove(os.path.join(rm_dir,file))\n",
        "\n",
        "n_MCI = len(os.listdir(rm_dir))"
      ]
    },
    {
      "cell_type": "code",
      "execution_count": 12,
      "metadata": {
        "colab": {
          "base_uri": "https://localhost:8080/"
        },
        "id": "mlvijMbfvMZa",
        "outputId": "99adb40a-cf22-4811-8b67-9f5b5692bee7"
      },
      "outputs": [
        {
          "data": {
            "text/plain": [
              "(924,)"
            ]
          },
          "execution_count": 12,
          "metadata": {},
          "output_type": "execute_result"
        }
      ],
      "source": [
        "# array for saving the filenames\n",
        "filenames = np.array([])\n",
        "\n",
        "# iterate all three class folders in the db\n",
        "for subf in CLASS_SUBFOLDERS:\n",
        "  # using the skull stripped data\n",
        "  path = DB_SS_PATH + subf\n",
        "  for name in os.listdir(path):\n",
        "    complete_name = os.path.join(path, name)\n",
        "    if os.path.isfile(complete_name):\n",
        "        filenames = np.concatenate((filenames, complete_name), axis=None)\n",
        "      \n",
        "\n",
        "filenames.shape"
      ]
    },
    {
      "cell_type": "code",
      "execution_count": 13,
      "metadata": {},
      "outputs": [],
      "source": [
        "raw_dir = \"data/raw_data\"\n",
        "for id in filenames:\n",
        "    split_path = id.split('/')[-1]\n",
        "    id_id = split_path.split('_')[0]\n",
        "    for file in os.listdir(raw_dir):\n",
        "        if id_id in os.path.join(raw_dir,file):\n",
        "            os.remove(os.path.join(raw_dir,file))"
      ]
    },
    {
      "cell_type": "code",
      "execution_count": 14,
      "metadata": {
        "colab": {
          "base_uri": "https://localhost:8080/"
        },
        "id": "H_ro-A17vpN_",
        "outputId": "d75008bc-7796-47d2-81c5-fd00ffeebd47"
      },
      "outputs": [
        {
          "name": "stdout",
          "output_type": "stream",
          "text": [
            "Training set: (669,)\n",
            "Validation set: (117,)\n",
            "Test set: (138,)\n"
          ]
        }
      ],
      "source": [
        "for i in range(1000):\n",
        "  np.random.shuffle(filenames)\n",
        "  \n",
        "test_margin = int(len(filenames) * TEST_SPLIT)\n",
        "training_set, test_set = filenames[test_margin:], filenames[:test_margin]\n",
        "\n",
        "validation_margin = int(len(training_set) * VALIDATION_SPLIT)\n",
        "training_set, validation_set = training_set[validation_margin:], training_set[:validation_margin]\n",
        "\n",
        "print('Training set:', training_set.shape)\n",
        "print('Validation set:', validation_set.shape)\n",
        "print('Test set:', test_set.shape)"
      ]
    },
    {
      "cell_type": "code",
      "execution_count": 8,
      "metadata": {
        "colab": {
          "base_uri": "https://localhost:8080/",
          "height": 206
        },
        "id": "1aIVkjiS3y5k",
        "outputId": "31522864-ccb0-479c-ab18-1fb4a5a3fb3b"
      },
      "outputs": [
        {
          "data": {
            "text/html": [
              "<div>\n",
              "<style scoped>\n",
              "    .dataframe tbody tr th:only-of-type {\n",
              "        vertical-align: middle;\n",
              "    }\n",
              "\n",
              "    .dataframe tbody tr th {\n",
              "        vertical-align: top;\n",
              "    }\n",
              "\n",
              "    .dataframe thead th {\n",
              "        text-align: right;\n",
              "    }\n",
              "</style>\n",
              "<table border=\"1\" class=\"dataframe\">\n",
              "  <thead>\n",
              "    <tr style=\"text-align: right;\">\n",
              "      <th></th>\n",
              "      <th>Image Data ID</th>\n",
              "      <th>Subject</th>\n",
              "      <th>Group</th>\n",
              "      <th>Sex</th>\n",
              "      <th>Age</th>\n",
              "      <th>Visit</th>\n",
              "      <th>Modality</th>\n",
              "      <th>Description</th>\n",
              "      <th>Type</th>\n",
              "      <th>Acq Date</th>\n",
              "      <th>Format</th>\n",
              "      <th>Downloaded</th>\n",
              "    </tr>\n",
              "  </thead>\n",
              "  <tbody>\n",
              "    <tr>\n",
              "      <th>0</th>\n",
              "      <td>I63874</td>\n",
              "      <td>941_S_1202</td>\n",
              "      <td>CN</td>\n",
              "      <td>M</td>\n",
              "      <td>78</td>\n",
              "      <td>1</td>\n",
              "      <td>MRI</td>\n",
              "      <td>MPR-R; GradWarp; B1 Correction; N3; Scaled</td>\n",
              "      <td>Processed</td>\n",
              "      <td>1/30/2007</td>\n",
              "      <td>NiFTI</td>\n",
              "      <td>NaN</td>\n",
              "    </tr>\n",
              "    <tr>\n",
              "      <th>1</th>\n",
              "      <td>I204843</td>\n",
              "      <td>941_S_1202</td>\n",
              "      <td>CN</td>\n",
              "      <td>M</td>\n",
              "      <td>81</td>\n",
              "      <td>8</td>\n",
              "      <td>MRI</td>\n",
              "      <td>MPR; GradWarp; B1 Correction; N3; Scaled</td>\n",
              "      <td>Processed</td>\n",
              "      <td>3/14/2010</td>\n",
              "      <td>NiFTI</td>\n",
              "      <td>NaN</td>\n",
              "    </tr>\n",
              "    <tr>\n",
              "      <th>2</th>\n",
              "      <td>I137298</td>\n",
              "      <td>941_S_1202</td>\n",
              "      <td>CN</td>\n",
              "      <td>M</td>\n",
              "      <td>80</td>\n",
              "      <td>6</td>\n",
              "      <td>MRI</td>\n",
              "      <td>MPR; GradWarp; B1 Correction; N3; Scaled</td>\n",
              "      <td>Processed</td>\n",
              "      <td>2/17/2009</td>\n",
              "      <td>NiFTI</td>\n",
              "      <td>NaN</td>\n",
              "    </tr>\n",
              "    <tr>\n",
              "      <th>3</th>\n",
              "      <td>I75150</td>\n",
              "      <td>941_S_1202</td>\n",
              "      <td>CN</td>\n",
              "      <td>M</td>\n",
              "      <td>78</td>\n",
              "      <td>3</td>\n",
              "      <td>MRI</td>\n",
              "      <td>MPR; GradWarp; B1 Correction; N3; Scaled</td>\n",
              "      <td>Processed</td>\n",
              "      <td>8/24/2007</td>\n",
              "      <td>NiFTI</td>\n",
              "      <td>NaN</td>\n",
              "    </tr>\n",
              "    <tr>\n",
              "      <th>4</th>\n",
              "      <td>I105437</td>\n",
              "      <td>941_S_1202</td>\n",
              "      <td>CN</td>\n",
              "      <td>M</td>\n",
              "      <td>79</td>\n",
              "      <td>4</td>\n",
              "      <td>MRI</td>\n",
              "      <td>MPR; GradWarp; B1 Correction; N3; Scaled</td>\n",
              "      <td>Processed</td>\n",
              "      <td>2/28/2008</td>\n",
              "      <td>NiFTI</td>\n",
              "      <td>NaN</td>\n",
              "    </tr>\n",
              "  </tbody>\n",
              "</table>\n",
              "</div>"
            ],
            "text/plain": [
              "  Image Data ID     Subject Group Sex  Age  Visit Modality  \\\n",
              "0        I63874  941_S_1202    CN   M   78      1      MRI   \n",
              "1       I204843  941_S_1202    CN   M   81      8      MRI   \n",
              "2       I137298  941_S_1202    CN   M   80      6      MRI   \n",
              "3        I75150  941_S_1202    CN   M   78      3      MRI   \n",
              "4       I105437  941_S_1202    CN   M   79      4      MRI   \n",
              "\n",
              "                                  Description       Type   Acq Date Format  \\\n",
              "0  MPR-R; GradWarp; B1 Correction; N3; Scaled  Processed  1/30/2007  NiFTI   \n",
              "1    MPR; GradWarp; B1 Correction; N3; Scaled  Processed  3/14/2010  NiFTI   \n",
              "2    MPR; GradWarp; B1 Correction; N3; Scaled  Processed  2/17/2009  NiFTI   \n",
              "3    MPR; GradWarp; B1 Correction; N3; Scaled  Processed  8/24/2007  NiFTI   \n",
              "4    MPR; GradWarp; B1 Correction; N3; Scaled  Processed  2/28/2008  NiFTI   \n",
              "\n",
              "   Downloaded  \n",
              "0         NaN  \n",
              "1         NaN  \n",
              "2         NaN  \n",
              "3         NaN  \n",
              "4         NaN  "
            ]
          },
          "execution_count": 8,
          "metadata": {},
          "output_type": "execute_result"
        }
      ],
      "source": [
        "description = pd.read_csv('data/data.csv')\n",
        "description.head()"
      ]
    },
    {
      "cell_type": "code",
      "execution_count": 9,
      "metadata": {
        "id": "ch1lrh0DbTDx"
      },
      "outputs": [],
      "source": [
        "def _bytes_feature(value):\n",
        "    if isinstance(value, type(tf.constant(0))):\n",
        "        value = value.numpy()\n",
        "    return tf.train.Feature(bytes_list=tf.train.BytesList(value=[value]))\n",
        "\n",
        "def _float_feature(value):\n",
        "  return tf.train.Feature(float_list=tf.train.FloatList(value=[value]))\n",
        "\n",
        "def _int64_feature(value):\n",
        "  return tf.train.Feature(int64_list=tf.train.Int64List(value=[value]))\n",
        "\n",
        "def load_image(abs_path):\n",
        "    split_path = abs_path.split('/')\n",
        "    label = LABELS[split_path[-2]]\n",
        "    ants_image = ants.image_read(abs_path)\n",
        "    img = ants_image.numpy()\n",
        "    \n",
        "    return img, label\n",
        "\n",
        "def serialize_array(array):\n",
        "  array = tf.io.serialize_tensor(array)\n",
        "  return array\n",
        "\n",
        "def create_tf_record(img_filenames, tf_rec_filename):\n",
        "    writer = tf.io.TFRecordWriter(tf_rec_filename)\n",
        "    for meta_data in img_filenames:\n",
        "        img, label = load_image(meta_data)\n",
        "        feature = {'label': _int64_feature(label),\n",
        "                   'image': _bytes_feature(serialize_array(img))}\n",
        "        example = tf.train.Example(features=tf.train.Features(feature=feature))\n",
        "        writer.write(example.SerializeToString())\n",
        "    writer.close()"
      ]
    },
    {
      "cell_type": "code",
      "execution_count": null,
      "metadata": {
        "id": "-Jn_uXfcwPES"
      },
      "outputs": [],
      "source": [
        "create_tf_record(training_set, train_tfrec)\n",
        "create_tf_record(test_set, test_tfrec)\n",
        "create_tf_record(validation_set, val_tfrec)"
      ]
    },
    {
      "cell_type": "code",
      "execution_count": 10,
      "metadata": {
        "colab": {
          "base_uri": "https://localhost:8080/"
        },
        "id": "AS66XZ2AfwDq",
        "outputId": "02033f0a-c6d4-47b2-a7a7-2f804e53d431"
      },
      "outputs": [
        {
          "name": "stderr",
          "output_type": "stream",
          "text": [
            "2022-11-29 20:41:09.229378: I tensorflow/compiler/xla/stream_executor/cuda/cuda_gpu_executor.cc:967] could not open file to read NUMA node: /sys/bus/pci/devices/0000:01:00.0/numa_node\n",
            "Your kernel may have been built without NUMA support.\n",
            "2022-11-29 20:41:09.393644: I tensorflow/compiler/xla/stream_executor/cuda/cuda_gpu_executor.cc:967] could not open file to read NUMA node: /sys/bus/pci/devices/0000:01:00.0/numa_node\n",
            "Your kernel may have been built without NUMA support.\n",
            "2022-11-29 20:41:09.394520: I tensorflow/compiler/xla/stream_executor/cuda/cuda_gpu_executor.cc:967] could not open file to read NUMA node: /sys/bus/pci/devices/0000:01:00.0/numa_node\n",
            "Your kernel may have been built without NUMA support.\n",
            "2022-11-29 20:41:09.395570: I tensorflow/core/platform/cpu_feature_guard.cc:193] This TensorFlow binary is optimized with oneAPI Deep Neural Network Library (oneDNN) to use the following CPU instructions in performance-critical operations:  AVX2 AVX_VNNI FMA\n",
            "To enable them in other operations, rebuild TensorFlow with the appropriate compiler flags.\n",
            "2022-11-29 20:41:09.403032: I tensorflow/compiler/xla/stream_executor/cuda/cuda_gpu_executor.cc:967] could not open file to read NUMA node: /sys/bus/pci/devices/0000:01:00.0/numa_node\n",
            "Your kernel may have been built without NUMA support.\n",
            "2022-11-29 20:41:09.403743: I tensorflow/compiler/xla/stream_executor/cuda/cuda_gpu_executor.cc:967] could not open file to read NUMA node: /sys/bus/pci/devices/0000:01:00.0/numa_node\n",
            "Your kernel may have been built without NUMA support.\n",
            "2022-11-29 20:41:09.404169: I tensorflow/compiler/xla/stream_executor/cuda/cuda_gpu_executor.cc:967] could not open file to read NUMA node: /sys/bus/pci/devices/0000:01:00.0/numa_node\n",
            "Your kernel may have been built without NUMA support.\n",
            "2022-11-29 20:41:11.516400: I tensorflow/compiler/xla/stream_executor/cuda/cuda_gpu_executor.cc:967] could not open file to read NUMA node: /sys/bus/pci/devices/0000:01:00.0/numa_node\n",
            "Your kernel may have been built without NUMA support.\n",
            "2022-11-29 20:41:11.516913: I tensorflow/compiler/xla/stream_executor/cuda/cuda_gpu_executor.cc:967] could not open file to read NUMA node: /sys/bus/pci/devices/0000:01:00.0/numa_node\n",
            "Your kernel may have been built without NUMA support.\n",
            "2022-11-29 20:41:11.516929: I tensorflow/core/common_runtime/gpu/gpu_device.cc:1700] Could not identify NUMA node of platform GPU id 0, defaulting to 0.  Your kernel may not have been built with NUMA support.\n",
            "2022-11-29 20:41:11.517193: I tensorflow/compiler/xla/stream_executor/cuda/cuda_gpu_executor.cc:967] could not open file to read NUMA node: /sys/bus/pci/devices/0000:01:00.0/numa_node\n",
            "Your kernel may have been built without NUMA support.\n",
            "2022-11-29 20:41:11.517349: I tensorflow/core/common_runtime/gpu/gpu_device.cc:1613] Created device /job:localhost/replica:0/task:0/device:GPU:0 with 1613 MB memory:  -> device: 0, name: NVIDIA GeForce RTX 3050 Laptop GPU, pci bus id: 0000:01:00.0, compute capability: 8.6\n"
          ]
        },
        {
          "name": "stdout",
          "output_type": "stream",
          "text": [
            "Training samples: 1230\n"
          ]
        }
      ],
      "source": [
        "n_training_samples = 0\n",
        "for record in tf.data.TFRecordDataset(train_tfrec):\n",
        "  n_training_samples += 1\n",
        "print ('Training samples:', n_training_samples)"
      ]
    },
    {
      "cell_type": "code",
      "execution_count": 11,
      "metadata": {
        "colab": {
          "base_uri": "https://localhost:8080/"
        },
        "id": "HvSBrDFuAh0e",
        "outputId": "62af8dfe-de2c-423f-ff3c-4e3d06c80214"
      },
      "outputs": [
        {
          "name": "stdout",
          "output_type": "stream",
          "text": [
            "Validation samples: 217\n"
          ]
        }
      ],
      "source": [
        "n_val_samples = 0\n",
        "for record in tf.data.TFRecordDataset(val_tfrec):\n",
        "  n_val_samples += 1\n",
        "print ('Validation samples:', n_val_samples)"
      ]
    },
    {
      "cell_type": "code",
      "execution_count": 12,
      "metadata": {
        "colab": {
          "base_uri": "https://localhost:8080/"
        },
        "id": "whtjxHVSAhrt",
        "outputId": "59ababba-c14f-4761-d208-79612840ac9a"
      },
      "outputs": [
        {
          "name": "stdout",
          "output_type": "stream",
          "text": [
            "Test samples: 255\n"
          ]
        }
      ],
      "source": [
        "n_test_samples = 0\n",
        "for record in tf.data.TFRecordDataset(test_tfrec):\n",
        "  n_test_samples += 1\n",
        "print ('Test samples:', n_test_samples)"
      ]
    },
    {
      "cell_type": "code",
      "execution_count": 13,
      "metadata": {
        "colab": {
          "base_uri": "https://localhost:8080/"
        },
        "id": "jkUk6yoTAtnY",
        "outputId": "f4b23eec-98ea-42e2-877c-99c5c8fb27cf"
      },
      "outputs": [
        {
          "name": "stdout",
          "output_type": "stream",
          "text": [
            "Dataset size: 1702\n"
          ]
        }
      ],
      "source": [
        "total_n_samples = n_test_samples + n_training_samples + n_val_samples\n",
        "print ('Dataset size:', total_n_samples)"
      ]
    },
    {
      "cell_type": "code",
      "execution_count": 14,
      "metadata": {
        "id": "agpe4U0cFnau"
      },
      "outputs": [],
      "source": [
        "def _decode(serialized_example):\n",
        "    IMG_SHAPE = (172, 220, 156, 1)\n",
        "    feature = tf.io.parse_single_example(\n",
        "        serialized_example,\n",
        "        features = {\n",
        "            'image': tf.io.FixedLenFeature([], tf.string),\n",
        "            'label': tf.io.FixedLenFeature([], tf.int64)\n",
        "        }\n",
        "    )\n",
        "    image = tf.io.parse_tensor(feature['image'], out_type=tf.float32)\n",
        "    image = tf.reshape(image, IMG_SHAPE)\n",
        "\n",
        "    label = tf.cast(feature['label'], tf.int32)\n",
        "    #label = tf.one_hot(feature['label'], 3) #change to multiclass\n",
        "    #label = tf.constant([1,0,0])[label] #change to binary\n",
        "\n",
        "    return image, label"
      ]
    },
    {
      "cell_type": "code",
      "execution_count": 15,
      "metadata": {
        "id": "Jr0DTgZZvf05"
      },
      "outputs": [],
      "source": [
        "def read_dataset(epochs, batch_size, filename):\n",
        "  dataset = tf.data.TFRecordDataset(filename)\n",
        "  dataset = dataset.map(_decode, num_parallel_calls=10)\n",
        "  dataset = dataset.shuffle(epochs * batch_size).repeat()\n",
        "  dataset = dataset.batch(batch_size)\n",
        "  dataset = dataset.prefetch(batch_size)\n",
        "    \n",
        "  return dataset\n",
        "\n",
        "def read_dataset_for_test(epochs, batch_size, filename):\n",
        "  dataset = tf.data.TFRecordDataset(filename)\n",
        "  dataset = dataset.map(_decode, num_parallel_calls=10)\n",
        "  dataset = dataset.batch(batch_size)\n",
        "  dataset = dataset.prefetch(batch_size)\n",
        "    \n",
        "  return dataset"
      ]
    },
    {
      "cell_type": "code",
      "execution_count": null,
      "metadata": {
        "id": "P-remP7fERRW"
      },
      "outputs": [],
      "source": [
        "#########################\n",
        "## OLD MODEL ARCHITECH ##\n",
        "#########################\n",
        "\n",
        "#from antspynet.architectures import create_resnet_model_3d\n",
        "#from tensorflow.keras import Sequential, layers, models\n",
        "#from tensorflow.keras import optimizers\n",
        "\n",
        "#def set_nontrainable_layers(model):\n",
        "#    model.trainable = False \n",
        "#    return model\n",
        "\n",
        "#base_model = create_resnet_model_3d((172, 220, 156, 1))\n",
        "#base_model = set_nontrainable_layers(base_model)\n",
        "#flatten_layer = layers.Flatten()\n",
        "#dense_layer = layers.Dense(512, activation='relu')\n",
        "#prediction_layer = layers.Dense(3, activation='softmax')\n",
        "\n",
        "#model = models.Sequential([\n",
        "#        base_model,\n",
        "#        flatten_layer,\n",
        "#        dense_layer,\n",
        "#        prediction_layer\n",
        "#    ])\n",
        "#\n",
        "#model.summary()"
      ]
    },
    {
      "cell_type": "code",
      "execution_count": 16,
      "metadata": {
        "colab": {
          "base_uri": "https://localhost:8080/"
        },
        "id": "O8mgeAzNTZ26",
        "outputId": "49d1ef87-fa98-4aab-e6b9-be9e297a6a05"
      },
      "outputs": [
        {
          "name": "stdout",
          "output_type": "stream",
          "text": [
            "CN: 555 - 0.32608695652173914\n",
            "Non-CN: 1147 - 0.6739130434782609\n",
            "Total: 1702\n",
            "Bias: [-0.725937]\n"
          ]
        }
      ],
      "source": [
        "n_nonCN = n_MCI + n_AD\n",
        "n_total = n_nonCN + n_CN\n",
        "initial_bias = np.log([n_CN/n_nonCN])\n",
        "print(f\"CN: {n_CN} - {n_CN/n_total}\\nNon-CN: {n_nonCN} - {n_nonCN/n_total}\\nTotal: {n_total}\\nBias: {initial_bias}\")"
      ]
    },
    {
      "cell_type": "code",
      "execution_count": 18,
      "metadata": {},
      "outputs": [],
      "source": [
        "from tensorflow.keras.optimizers.schedules import ExponentialDecay\n",
        "from tensorflow.keras import optimizers\n",
        "\n",
        "METRICS = [\n",
        "      tf.keras.metrics.AUC(name='auc'),\n",
        "      tf.keras.metrics.AUC(name='prc', curve='PR'), #precision-recall curve\n",
        "      tf.keras.metrics.BinaryAccuracy(name='accuracy')\n",
        "]\n",
        "\n",
        "initial_learning_rate = 0.0001\n",
        "lr_schedule = ExponentialDecay(initial_learning_rate, decay_steps=100000, decay_rate=0.96, staircase=True)\n",
        "\n",
        "opt = optimizers.SGD(learning_rate=0.001)"
      ]
    },
    {
      "cell_type": "code",
      "execution_count": null,
      "metadata": {
        "colab": {
          "base_uri": "https://localhost:8080/"
        },
        "id": "ACTzoa0bJDDh",
        "outputId": "a57dbbb7-17cf-45a8-bc60-37f900934d4b"
      },
      "outputs": [],
      "source": [
        "from antspynet.architectures import create_resnet_model_3d\n",
        "from tensorflow.keras import Sequential, layers, models\n",
        "\n",
        "\n",
        "def set_nontrainable_layers(model):\n",
        "    model.trainable = False \n",
        "    return model\n",
        "\n",
        "IMG_SHAPE = (172, 220, 156, 1)\n",
        "N_CLASSES = 2\n",
        "\n",
        "x = tf.keras.layers.Input(IMG_SHAPE)\n",
        "base_model = create_resnet_model_3d(IMG_SHAPE, number_of_classification_labels=N_CLASSES)\n",
        "base_model = set_nontrainable_layers(base_model)\n",
        "fc_layer = tf.keras.layers.Dense(1024, activation='relu')(base_model.layers[-2].output)\n",
        "#fc_layer = tf.keras.layers.Dropout(0.8)(fc_layer)\n",
        "output_layer = tf.keras.layers.Dense(1, activation='sigmoid', bias_initializer=tf.keras.initializers.Constant(initial_bias))(fc_layer)\n",
        "model = tf.keras.models.Model(inputs=base_model.input, outputs=output_layer)\n",
        "model.summary()\n",
        "model.compile(loss=\"binary_crossentropy\", optimizer=opt, metrics=METRICS)"
      ]
    },
    {
      "cell_type": "code",
      "execution_count": 19,
      "metadata": {
        "id": "iW3pyIxV1qRH"
      },
      "outputs": [],
      "source": [
        "EPOCHS = 20\n",
        "BATCH_SIZE = 4\n",
        "STEPS_PER_EPOCH = int(n_training_samples / BATCH_SIZE)\n",
        "VALIDATION_STEPS = int(n_val_samples / BATCH_SIZE)\n",
        "\n",
        "train_tensors = read_dataset(EPOCHS, BATCH_SIZE, train_tfrec)\n",
        "val_tensors = read_dataset(EPOCHS, BATCH_SIZE, val_tfrec)\n",
        "test_tensors = read_dataset_for_test(EPOCHS, BATCH_SIZE, test_tfrec)"
      ]
    },
    {
      "cell_type": "code",
      "execution_count": null,
      "metadata": {
        "colab": {
          "base_uri": "https://localhost:8080/",
          "height": 381
        },
        "id": "yvqUyWMeE1oV",
        "outputId": "7d115839-01fd-4b13-f0cb-860b4fabc645"
      },
      "outputs": [],
      "source": [
        "from tensorflow.keras.callbacks import EarlyStopping\n",
        "\n",
        "es = EarlyStopping(patience=10, restore_best_weights=True)\n",
        "\n",
        "history = model.fit(train_tensors,\n",
        "                    steps_per_epoch=STEPS_PER_EPOCH,\n",
        "                    validation_data=(val_tensors),\n",
        "                    validation_steps=VALIDATION_STEPS,\n",
        "                    shuffle=True,\n",
        "                    batch_size=BATCH_SIZE,\n",
        "                    epochs=EPOCHS,\n",
        "                    callbacks=[es],\n",
        "                    verbose=1)"
      ]
    },
    {
      "cell_type": "code",
      "execution_count": null,
      "metadata": {
        "colab": {
          "base_uri": "https://localhost:8080/",
          "height": 281
        },
        "id": "ydmjJDJ5zCjf",
        "outputId": "a128c2dd-5fa4-4ae7-98ac-651c82e379c4"
      },
      "outputs": [],
      "source": [
        "def plot_loss_accuracy(history):\n",
        "\n",
        "    with plt.style.context('seaborn-deep'):\n",
        "\n",
        "        fig, ax = plt.subplots(1, 2, figsize=(15, 4))\n",
        "\n",
        "        ## Plot Losses and Accuracies\n",
        "        x_axis = np.arange(len(history.history['loss']))\n",
        "\n",
        "        ax[0].set_title(\"Loss\")\n",
        "        ax[0].plot(x_axis, history.history['loss'], color=\"blue\", linestyle=\":\", marker=\"X\", label=\"Train Loss\")\n",
        "        ax[0].plot(x_axis, history.history['val_loss'], color=\"orange\", linestyle=\"-\", marker=\"X\", label=\"Val Loss\")\n",
        "\n",
        "        ax[1].set_title(\"Accuracy\")\n",
        "        ax[1].plot(x_axis, history.history['accuracy'], color=\"blue\", linestyle=\":\", marker=\"X\", label=\"Train Accuracy\")\n",
        "        ax[1].plot(x_axis,\n",
        "                   history.history['val_accuracy'],\n",
        "                   color=\"orange\",\n",
        "                   linestyle=\"-\",\n",
        "                   marker=\"X\",\n",
        "                   label=\"Val Accuracy\")\n",
        "\n",
        "        ## Customization\n",
        "        ax[0].grid(axis=\"x\", linewidth=0.5)\n",
        "        ax[0].grid(axis=\"y\", linewidth=0.5)\n",
        "        ax[0].legend()\n",
        "        ax[1].grid(axis=\"x\", linewidth=0.5)\n",
        "        ax[1].grid(axis=\"y\", linewidth=0.5)\n",
        "        ax[1].legend()\n",
        "\n",
        "        plt.show()\n",
        "\n",
        "plot_loss_accuracy(history)"
      ]
    },
    {
      "cell_type": "code",
      "execution_count": null,
      "metadata": {
        "colab": {
          "base_uri": "https://localhost:8080/"
        },
        "id": "o4I15en5AmKr",
        "outputId": "9d7906ac-a2ce-4602-9e6a-2dd300fbd24c"
      },
      "outputs": [],
      "source": [
        "res = model.evaluate(test_tensors)[1]\n",
        "res"
      ]
    },
    {
      "cell_type": "code",
      "execution_count": 20,
      "metadata": {
        "colab": {
          "base_uri": "https://localhost:8080/"
        },
        "id": "E5Y8YJ6Wrgq7",
        "outputId": "2ae76f84-677d-4af4-afda-b0c676adb662"
      },
      "outputs": [
        {
          "name": "stdout",
          "output_type": "stream",
          "text": [
            "Model: \"sequential\"\n",
            "_________________________________________________________________\n",
            " Layer (type)                Output Shape              Param #   \n",
            "=================================================================\n",
            " model (Functional)          (None, 2)                 67420482  \n",
            "                                                                 \n",
            " flatten (Flatten)           (None, 2)                 0         \n",
            "                                                                 \n",
            " dense_1 (Dense)             (None, 1024)              3072      \n",
            "                                                                 \n",
            " dense_2 (Dense)             (None, 1)                 1025      \n",
            "                                                                 \n",
            "=================================================================\n",
            "Total params: 67,424,579\n",
            "Trainable params: 4,097\n",
            "Non-trainable params: 67,420,482\n",
            "_________________________________________________________________\n"
          ]
        }
      ],
      "source": [
        "from antspynet.architectures import create_resnet_model_2d\n",
        "from tensorflow.keras import Sequential, layers, models\n",
        "from tensorflow.keras import optimizers\n",
        "\n",
        "def set_nontrainable_layers(model):\n",
        "    model.trainable = False \n",
        "    return model\n",
        "\n",
        "IMG_SHAPE = (172, 220, 156)\n",
        "N_CLASSES = 2\n",
        "\n",
        "base_model2 = create_resnet_model_2d(IMG_SHAPE, number_of_classification_labels=N_CLASSES)\n",
        "base_model2 = set_nontrainable_layers(base_model2)\n",
        "flatten_layer2 = layers.Flatten()\n",
        "dense_layer2 = layers.Dense(1024, activation='relu')\n",
        "prediction_layer2 = layers.Dense(1, activation='sigmoid', bias_initializer=tf.keras.initializers.Constant(initial_bias))\n",
        "\n",
        "model2 = models.Sequential([\n",
        "        base_model2,\n",
        "        flatten_layer2,\n",
        "        dense_layer2,\n",
        "        prediction_layer2])\n",
        "\n",
        "model2.summary()\n",
        "\n",
        "model2.compile(loss=\"binary_crossentropy\", optimizer=opt, metrics=METRICS)"
      ]
    },
    {
      "cell_type": "code",
      "execution_count": 21,
      "metadata": {},
      "outputs": [
        {
          "name": "stdout",
          "output_type": "stream",
          "text": [
            "Epoch 1/20\n"
          ]
        },
        {
          "name": "stderr",
          "output_type": "stream",
          "text": [
            "2022-11-29 20:44:21.632358: I tensorflow/compiler/xla/stream_executor/cuda/cuda_dnn.cc:428] Loaded cuDNN version 8600\n",
            "2022-11-29 20:44:52.667046: I tensorflow/tsl/platform/default/subprocess.cc:304] Start cannot spawn child process: No such file or directory\n",
            "2022-11-29 20:44:53.042371: W tensorflow/tsl/framework/bfc_allocator.cc:290] Allocator (GPU_0_bfc) ran out of memory trying to allocate 1.09GiB with freed_by_count=0. The caller indicates that this is not a failure, but this may mean that there could be performance gains if more memory were available.\n",
            "2022-11-29 20:44:53.044279: W tensorflow/tsl/framework/bfc_allocator.cc:290] Allocator (GPU_0_bfc) ran out of memory trying to allocate 1.09GiB with freed_by_count=0. The caller indicates that this is not a failure, but this may mean that there could be performance gains if more memory were available.\n",
            "2022-11-29 20:44:53.519560: W tensorflow/tsl/framework/bfc_allocator.cc:290] Allocator (GPU_0_bfc) ran out of memory trying to allocate 2.11GiB with freed_by_count=0. The caller indicates that this is not a failure, but this may mean that there could be performance gains if more memory were available.\n",
            "2022-11-29 20:44:53.519615: W tensorflow/tsl/framework/bfc_allocator.cc:290] Allocator (GPU_0_bfc) ran out of memory trying to allocate 2.11GiB with freed_by_count=0. The caller indicates that this is not a failure, but this may mean that there could be performance gains if more memory were available.\n",
            "2022-11-29 20:44:53.746482: W tensorflow/tsl/framework/bfc_allocator.cc:290] Allocator (GPU_0_bfc) ran out of memory trying to allocate 2.16GiB with freed_by_count=0. The caller indicates that this is not a failure, but this may mean that there could be performance gains if more memory were available.\n",
            "2022-11-29 20:44:53.746536: W tensorflow/tsl/framework/bfc_allocator.cc:290] Allocator (GPU_0_bfc) ran out of memory trying to allocate 2.16GiB with freed_by_count=0. The caller indicates that this is not a failure, but this may mean that there could be performance gains if more memory were available.\n",
            "2022-11-29 20:44:54.040969: W tensorflow/tsl/framework/bfc_allocator.cc:290] Allocator (GPU_0_bfc) ran out of memory trying to allocate 2.28GiB with freed_by_count=0. The caller indicates that this is not a failure, but this may mean that there could be performance gains if more memory were available.\n",
            "2022-11-29 20:44:54.041045: W tensorflow/tsl/framework/bfc_allocator.cc:290] Allocator (GPU_0_bfc) ran out of memory trying to allocate 2.28GiB with freed_by_count=0. The caller indicates that this is not a failure, but this may mean that there could be performance gains if more memory were available.\n",
            "2022-11-29 20:44:54.187522: W tensorflow/tsl/framework/bfc_allocator.cc:290] Allocator (GPU_0_bfc) ran out of memory trying to allocate 2.31GiB with freed_by_count=0. The caller indicates that this is not a failure, but this may mean that there could be performance gains if more memory were available.\n",
            "2022-11-29 20:44:54.187570: W tensorflow/tsl/framework/bfc_allocator.cc:290] Allocator (GPU_0_bfc) ran out of memory trying to allocate 2.31GiB with freed_by_count=0. The caller indicates that this is not a failure, but this may mean that there could be performance gains if more memory were available.\n",
            "2022-11-29 20:44:54.215230: I tensorflow/compiler/xla/stream_executor/cuda/cuda_blas.cc:630] TensorFloat-32 will be used for the matrix multiplication. This will only be logged once.\n",
            "2022-11-29 20:44:54.329538: I tensorflow/compiler/xla/service/service.cc:173] XLA service 0x55a3534d0ee0 initialized for platform CUDA (this does not guarantee that XLA will be used). Devices:\n",
            "2022-11-29 20:44:54.330008: I tensorflow/compiler/xla/service/service.cc:181]   StreamExecutor device (0): NVIDIA GeForce RTX 3050 Laptop GPU, Compute Capability 8.6\n",
            "2022-11-29 20:44:54.856414: I tensorflow/tsl/platform/default/subprocess.cc:304] Start cannot spawn child process: No such file or directory\n",
            "2022-11-29 20:44:54.943251: I tensorflow/compiler/jit/xla_compilation_cache.cc:477] Compiled cluster using XLA!  This line is logged at most once for the lifetime of the process.\n"
          ]
        },
        {
          "name": "stdout",
          "output_type": "stream",
          "text": [
            "  1/307 [..............................] - ETA: 3:38:16 - loss: 0.5745 - auc: 0.5000 - prc: 0.2500 - accuracy: 0.7500"
          ]
        },
        {
          "ename": "",
          "evalue": "",
          "output_type": "error",
          "traceback": [
            "\u001b[1;31mCanceled future for execute_request message before replies were done"
          ]
        },
        {
          "ename": "",
          "evalue": "",
          "output_type": "error",
          "traceback": [
            "\u001b[1;31mThe Kernel crashed while executing code in the the current cell or a previous cell. Please review the code in the cell(s) to identify a possible cause of the failure. Click <a href='https://aka.ms/vscodeJupyterKernelCrash'>here</a> for more info. View Jupyter <a href='command:jupyter.viewOutput'>log</a> for further details."
          ]
        }
      ],
      "source": [
        "from tensorflow.keras.callbacks import EarlyStopping\n",
        "\n",
        "es = EarlyStopping(patience=15, restore_best_weights=True)\n",
        "\n",
        "history2 = model2.fit(train_tensors,\n",
        "                    steps_per_epoch=STEPS_PER_EPOCH,\n",
        "                    validation_data=(val_tensors),\n",
        "                    validation_steps=VALIDATION_STEPS,\n",
        "                    shuffle=True,\n",
        "                    batch_size=BATCH_SIZE,\n",
        "                    epochs=EPOCHS,\n",
        "                    callbacks=[es],\n",
        "                    verbose=1)"
      ]
    },
    {
      "cell_type": "code",
      "execution_count": null,
      "metadata": {
        "colab": {
          "base_uri": "https://localhost:8080/",
          "height": 281
        },
        "id": "dRu1wAzApcXe",
        "outputId": "093cb2f3-73b4-4b06-bfe0-4755d365a969"
      },
      "outputs": [],
      "source": [
        "plot_loss_accuracy(history2)"
      ]
    },
    {
      "cell_type": "code",
      "execution_count": null,
      "metadata": {
        "colab": {
          "base_uri": "https://localhost:8080/"
        },
        "id": "TRMmKwFr3bOw",
        "outputId": "ed653c2b-a50f-4545-c724-4ba861f22423"
      },
      "outputs": [],
      "source": [
        "res2 = model2.evaluate(test_tensors)[1]\n",
        "res2"
      ]
    }
  ],
  "metadata": {
    "accelerator": "TPU",
    "colab": {
      "machine_shape": "hm",
      "provenance": []
    },
    "gpuClass": "standard",
    "kernelspec": {
      "display_name": "Python 3.10.6 64-bit ('shims')",
      "language": "python",
      "name": "python3"
    },
    "language_info": {
      "codemirror_mode": {
        "name": "ipython",
        "version": 3
      },
      "file_extension": ".py",
      "mimetype": "text/x-python",
      "name": "python",
      "nbconvert_exporter": "python",
      "pygments_lexer": "ipython3",
      "version": "3.10.6"
    },
    "vscode": {
      "interpreter": {
        "hash": "bfccd179c622ea5fc33f44bb94e37523dc7d9ad856bc3d150a4186024dd1b1ed"
      }
    }
  },
  "nbformat": 4,
  "nbformat_minor": 0
}
